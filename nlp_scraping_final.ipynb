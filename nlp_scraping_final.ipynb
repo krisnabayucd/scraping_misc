{
 "cells": [
  {
   "cell_type": "code",
   "execution_count": 1,
   "id": "1c11d6ac",
   "metadata": {},
   "outputs": [],
   "source": [
    "import numpy as np\n",
    "import pandas as pd\n",
    "from scrapy.selector import Selector\n",
    "from selenium import webdriver \n",
    "from selenium.webdriver.common.by import By\n",
    "from selenium.webdriver.common.keys import Keys\n",
    "from selenium.common.exceptions import NoSuchElementException\n",
    "from selenium.webdriver.support.ui import WebDriverWait\n",
    "from selenium.webdriver.support import expected_conditions as EC\n",
    "import time\n",
    "from tqdm import tqdm"
   ]
  },
  {
   "cell_type": "code",
   "execution_count": 2,
   "id": "17d42e08",
   "metadata": {},
   "outputs": [
    {
     "name": "stdout",
     "output_type": "stream",
     "text": [
      "\n"
     ]
    },
    {
     "name": "stderr",
     "output_type": "stream",
     "text": [
      "[WDM] - ====== WebDriver manager ======\n",
      "[WDM] - Current google-chrome version is 108.0.5359\n",
      "[WDM] - Get LATEST chromedriver version for 108.0.5359 google-chrome\n",
      "[WDM] - Driver [C:\\Users\\krish\\.wdm\\drivers\\chromedriver\\win32\\108.0.5359.71\\chromedriver.exe] found in cache\n"
     ]
    }
   ],
   "source": [
    "from selenium.webdriver.chrome.service import Service\n",
    "from webdriver_manager.chrome import ChromeDriverManager\n",
    "driver = webdriver.Chrome(service=Service(ChromeDriverManager().install()))"
   ]
  },
  {
   "cell_type": "code",
   "execution_count": 3,
   "id": "1f3d7148",
   "metadata": {},
   "outputs": [],
   "source": [
    "driver.get('https://www.imdb.com/title/tt3498820/reviews?ref_=tt_urv')\n",
    "\n",
    "count = 0\n",
    "\n",
    "while (count<11):\n",
    "    try:\n",
    "        time.sleep(1)\n",
    "        driver.execute_script(\"arguments[0].click();\", WebDriverWait(driver, 20).until(EC.element_to_be_clickable((By.ID, 'load-more-trigger'))))\n",
    "        count +=1\n",
    "    except count==11:\n",
    "        break"
   ]
  },
  {
   "cell_type": "code",
   "execution_count": 4,
   "id": "2791d2a0",
   "metadata": {},
   "outputs": [],
   "source": [
    "reviews = driver.find_elements(By.CSS_SELECTOR, 'div.review-container')\n",
    "first_review = reviews[0]\n",
    "sel = Selector(text = first_review.get_attribute('innerHTML'))"
   ]
  },
  {
   "cell_type": "code",
   "execution_count": 5,
   "id": "d414892f",
   "metadata": {},
   "outputs": [
    {
     "name": "stderr",
     "output_type": "stream",
     "text": [
      "100%|████████████████████████████████████████████████████████████████████████████████| 300/300 [00:05<00:00, 50.50it/s]\n"
     ]
    }
   ],
   "source": [
    "rating_list = []\n",
    "review_date_list = []\n",
    "review_title_list = []\n",
    "author_list = []\n",
    "review_list = []\n",
    "\n",
    "error_url_list = []\n",
    "error_msg_list = []\n",
    "reviews = driver.find_elements(By.CSS_SELECTOR, 'div.review-container')\n",
    "\n",
    "for d in tqdm(reviews):\n",
    "    try:\n",
    "        sel = Selector(text = d.get_attribute('innerHTML'))\n",
    "        try:\n",
    "            rating = sel.css('.rating-other-user-rating span::text').extract_first()\n",
    "        except:\n",
    "            rating = np.NaN\n",
    "        try:\n",
    "            review = sel.css('.text.show-more__control::text').extract()\n",
    "            review = ' '.join(review)\n",
    "        except:\n",
    "            review = np.NaN\n",
    "        try:\n",
    "            review_date = sel.css('.review-date::text').extract_first()\n",
    "        except:\n",
    "            review_date = np.NaN    \n",
    "        try:\n",
    "            author = sel.css('.display-name-link a::text').extract_first()\n",
    "        except:\n",
    "            author = np.NaN    \n",
    "        try:\n",
    "            review_title = sel.css('a.title::text').extract_first()\n",
    "        except:\n",
    "            review_title = np.NaN\n",
    "\n",
    "        rating_list.append(rating)\n",
    "        review_date_list.append(review_date)\n",
    "        review_title_list.append(review_title)\n",
    "        author_list.append(author)\n",
    "        review_list.append(review)\n",
    "\n",
    "    except Exception as e:\n",
    "        error_url_list.append(url)\n",
    "        error_msg_list.append(e)\n",
    "review_df = pd.DataFrame({\n",
    "    'review_date':review_date_list,\n",
    "    'author':author_list,\n",
    "    'rating':rating_list,\n",
    "    'review_title':review_title_list,\n",
    "    'review':review_list\n",
    "    })"
   ]
  },
  {
   "cell_type": "code",
   "execution_count": 6,
   "id": "d0f64735",
   "metadata": {},
   "outputs": [
    {
     "data": {
      "text/html": [
       "<div>\n",
       "<style scoped>\n",
       "    .dataframe tbody tr th:only-of-type {\n",
       "        vertical-align: middle;\n",
       "    }\n",
       "\n",
       "    .dataframe tbody tr th {\n",
       "        vertical-align: top;\n",
       "    }\n",
       "\n",
       "    .dataframe thead th {\n",
       "        text-align: right;\n",
       "    }\n",
       "</style>\n",
       "<table border=\"1\" class=\"dataframe\">\n",
       "  <thead>\n",
       "    <tr style=\"text-align: right;\">\n",
       "      <th></th>\n",
       "      <th>review_date</th>\n",
       "      <th>author</th>\n",
       "      <th>rating</th>\n",
       "      <th>review_title</th>\n",
       "      <th>review</th>\n",
       "    </tr>\n",
       "  </thead>\n",
       "  <tbody>\n",
       "    <tr>\n",
       "      <th>295</th>\n",
       "      <td>17 May 2016</td>\n",
       "      <td>cdennis39</td>\n",
       "      <td>2</td>\n",
       "      <td>Marvelously Blah....\\n</td>\n",
       "      <td>Action for actions sake. Plot holes galore and...</td>\n",
       "    </tr>\n",
       "    <tr>\n",
       "      <th>296</th>\n",
       "      <td>28 April 2016</td>\n",
       "      <td>dimbost</td>\n",
       "      <td>9</td>\n",
       "      <td>Perfect example of how to make a great super ...</td>\n",
       "      <td>I'm not usually keen on giving such high score...</td>\n",
       "    </tr>\n",
       "    <tr>\n",
       "      <th>297</th>\n",
       "      <td>13 April 2016</td>\n",
       "      <td>ernesto-43482</td>\n",
       "      <td>10</td>\n",
       "      <td>An Amazing Movie\\n</td>\n",
       "      <td>Russo Brothers did an amazing job with this fi...</td>\n",
       "    </tr>\n",
       "    <tr>\n",
       "      <th>298</th>\n",
       "      <td>27 April 2016</td>\n",
       "      <td>morphion2</td>\n",
       "      <td>9</td>\n",
       "      <td>The Great Responsibility\\n</td>\n",
       "      <td>Eight years into Marvel Studios' multi-propert...</td>\n",
       "    </tr>\n",
       "    <tr>\n",
       "      <th>299</th>\n",
       "      <td>25 December 2016</td>\n",
       "      <td>mitrapourmand</td>\n",
       "      <td>5</td>\n",
       "      <td>Magic ruined it for me\\n</td>\n",
       "      <td>Winter soldier was the best marvel movie , it ...</td>\n",
       "    </tr>\n",
       "  </tbody>\n",
       "</table>\n",
       "</div>"
      ],
      "text/plain": [
       "          review_date         author rating  \\\n",
       "295       17 May 2016      cdennis39      2   \n",
       "296     28 April 2016        dimbost      9   \n",
       "297     13 April 2016  ernesto-43482     10   \n",
       "298     27 April 2016      morphion2      9   \n",
       "299  25 December 2016  mitrapourmand      5   \n",
       "\n",
       "                                          review_title  \\\n",
       "295                             Marvelously Blah....\\n   \n",
       "296   Perfect example of how to make a great super ...   \n",
       "297                                 An Amazing Movie\\n   \n",
       "298                         The Great Responsibility\\n   \n",
       "299                           Magic ruined it for me\\n   \n",
       "\n",
       "                                                review  \n",
       "295  Action for actions sake. Plot holes galore and...  \n",
       "296  I'm not usually keen on giving such high score...  \n",
       "297  Russo Brothers did an amazing job with this fi...  \n",
       "298  Eight years into Marvel Studios' multi-propert...  \n",
       "299  Winter soldier was the best marvel movie , it ...  "
      ]
     },
     "execution_count": 6,
     "metadata": {},
     "output_type": "execute_result"
    }
   ],
   "source": [
    "review_df.tail()"
   ]
  },
  {
   "cell_type": "code",
   "execution_count": 7,
   "id": "314c927d",
   "metadata": {},
   "outputs": [
    {
     "data": {
      "text/html": [
       "<div>\n",
       "<style scoped>\n",
       "    .dataframe tbody tr th:only-of-type {\n",
       "        vertical-align: middle;\n",
       "    }\n",
       "\n",
       "    .dataframe tbody tr th {\n",
       "        vertical-align: top;\n",
       "    }\n",
       "\n",
       "    .dataframe thead th {\n",
       "        text-align: right;\n",
       "    }\n",
       "</style>\n",
       "<table border=\"1\" class=\"dataframe\">\n",
       "  <thead>\n",
       "    <tr style=\"text-align: right;\">\n",
       "      <th></th>\n",
       "      <th>review_date</th>\n",
       "      <th>author</th>\n",
       "      <th>rating</th>\n",
       "      <th>review_title</th>\n",
       "      <th>review</th>\n",
       "    </tr>\n",
       "  </thead>\n",
       "  <tbody>\n",
       "    <tr>\n",
       "      <th>0</th>\n",
       "      <td>24 July 2021</td>\n",
       "      <td>snoozejonc</td>\n",
       "      <td>8</td>\n",
       "      <td>Huge amount of spectacle &amp; character moments\\n</td>\n",
       "      <td>When an incident involving Wanda Maximoff caus...</td>\n",
       "    </tr>\n",
       "    <tr>\n",
       "      <th>1</th>\n",
       "      <td>30 May 2021</td>\n",
       "      <td>Venomage03</td>\n",
       "      <td>10</td>\n",
       "      <td>Captain America: Civil War is one of the best...</td>\n",
       "      <td>This movie has a fantastic plot and brings all...</td>\n",
       "    </tr>\n",
       "    <tr>\n",
       "      <th>2</th>\n",
       "      <td>7 April 2021</td>\n",
       "      <td>andreascaloni</td>\n",
       "      <td>9</td>\n",
       "      <td>GRIPPING, BOLD AND SMART\\n</td>\n",
       "      <td>Captain America Civil War is a gripping, bold,...</td>\n",
       "    </tr>\n",
       "    <tr>\n",
       "      <th>3</th>\n",
       "      <td>30 July 2021</td>\n",
       "      <td>AlsExGal</td>\n",
       "      <td>9</td>\n",
       "      <td>A master class in screenwriting\\n</td>\n",
       "      <td>What impresses me about this movie is how much...</td>\n",
       "    </tr>\n",
       "    <tr>\n",
       "      <th>4</th>\n",
       "      <td>31 March 2021</td>\n",
       "      <td>JWick23</td>\n",
       "      <td>None</td>\n",
       "      <td>I could do this all day...\\n</td>\n",
       "      <td>Captain America: Civil War was a great sequel ...</td>\n",
       "    </tr>\n",
       "  </tbody>\n",
       "</table>\n",
       "</div>"
      ],
      "text/plain": [
       "     review_date         author rating  \\\n",
       "0   24 July 2021     snoozejonc      8   \n",
       "1    30 May 2021     Venomage03     10   \n",
       "2   7 April 2021  andreascaloni      9   \n",
       "3   30 July 2021       AlsExGal      9   \n",
       "4  31 March 2021        JWick23   None   \n",
       "\n",
       "                                        review_title  \\\n",
       "0     Huge amount of spectacle & character moments\\n   \n",
       "1   Captain America: Civil War is one of the best...   \n",
       "2                         GRIPPING, BOLD AND SMART\\n   \n",
       "3                  A master class in screenwriting\\n   \n",
       "4                       I could do this all day...\\n   \n",
       "\n",
       "                                              review  \n",
       "0  When an incident involving Wanda Maximoff caus...  \n",
       "1  This movie has a fantastic plot and brings all...  \n",
       "2  Captain America Civil War is a gripping, bold,...  \n",
       "3  What impresses me about this movie is how much...  \n",
       "4  Captain America: Civil War was a great sequel ...  "
      ]
     },
     "execution_count": 7,
     "metadata": {},
     "output_type": "execute_result"
    }
   ],
   "source": [
    "review_df.head()"
   ]
  },
  {
   "cell_type": "code",
   "execution_count": 8,
   "id": "a70c2262",
   "metadata": {},
   "outputs": [],
   "source": [
    "review_df.to_csv('civilwar.csv', index=False)"
   ]
  },
  {
   "cell_type": "code",
   "execution_count": null,
   "id": "c342c9db",
   "metadata": {},
   "outputs": [],
   "source": []
  }
 ],
 "metadata": {
  "kernelspec": {
   "display_name": "Python 3 (ipykernel)",
   "language": "python",
   "name": "python3"
  },
  "language_info": {
   "codemirror_mode": {
    "name": "ipython",
    "version": 3
   },
   "file_extension": ".py",
   "mimetype": "text/x-python",
   "name": "python",
   "nbconvert_exporter": "python",
   "pygments_lexer": "ipython3",
   "version": "3.9.12"
  }
 },
 "nbformat": 4,
 "nbformat_minor": 5
}
